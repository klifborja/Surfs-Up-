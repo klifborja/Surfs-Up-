{
 "cells": [
  {
   "cell_type": "code",
   "execution_count": 40,
   "metadata": {},
   "outputs": [],
   "source": [
    "# Import Dependencies\n",
    "import numpy as np\n",
    "import pandas as pd\n",
    "import datetime as dt\n",
    "import sqlalchemy\n",
    "from sqlalchemy.ext.automap import automap_base\n",
    "from sqlalchemy.orm import Session\n",
    "from sqlalchemy import create_engine, func\n",
    "from flask import Flask, jsonify"
   ]
  },
  {
   "cell_type": "code",
   "execution_count": 41,
   "metadata": {},
   "outputs": [],
   "source": [
    "# Setup Database\n",
    "engine = create_engine(\"sqlite:///Resources/hawaii.sqlite\", connect_args={'check_same_thread': False})"
   ]
  },
  {
   "cell_type": "code",
   "execution_count": 42,
   "metadata": {},
   "outputs": [],
   "source": [
    "Base = automap_base()\n",
    "Base.prepare(engine, reflect=True)\n",
    "Base.classes.keys()\n",
    "\n",
    "Measurement = Base.classes.measurement\n",
    "Station = Base.classes.station"
   ]
  },
  {
   "cell_type": "code",
   "execution_count": 43,
   "metadata": {},
   "outputs": [],
   "source": [
    "# Create Python to DB session\n",
    "session = Session(engine)"
   ]
  },
  {
   "cell_type": "code",
   "execution_count": 44,
   "metadata": {},
   "outputs": [],
   "source": [
    "# Open the Flask\n",
    "\n",
    "app = Flask(__name__)"
   ]
  },
  {
   "cell_type": "code",
   "execution_count": 45,
   "metadata": {},
   "outputs": [],
   "source": [
    "# Passing the Flask\n",
    "\n",
    "@app.route(\"/Aloha\")\n",
    "def welcome():\n",
    "    return (\n",
    "\t\tf\"Aloha and welcome to the Surf's Up API!<br>\"\n",
    "\t\tf\"Available Routes:<br>\"\n",
    "\t\tf\"/api/v1.0/precipitation<br>\"\n",
    "        f\"/api/v1.0/temperature<br>\"\n",
    "\t\tf\"/api/v1.0/stations<br>\"\n",
    "\t\tf\"/api/v1.0/tobs<br>\"\n",
    "\t\tf\"/api/v1.0/<start><br>\"\n",
    "\t\tf\"/api/v1.0<start>/<end><br>\"\n",
    "\t)"
   ]
  },
  {
   "cell_type": "code",
   "execution_count": 46,
   "metadata": {},
   "outputs": [],
   "source": [
    "@app.route(\"/api/v1.0/precipitaton\")\n",
    "def precipitation():\n",
    "\n",
    " # Precipitation Query   \n",
    "    rain_query = session.query(Measurement.date, Measurement.prcp).filter(Measurement.date.between('2016-08-23', '2017-08-23')).order_by(Measurement.date).all()\n",
    "\n",
    "# Convert list of Tuples to List\n",
    "    precipitation_query = dict(rain_query)\n",
    "\n",
    "# jsonify\n",
    "    return jsonify(precipitation_query)"
   ]
  },
  {
   "cell_type": "code",
   "execution_count": 47,
   "metadata": {},
   "outputs": [],
   "source": [
    "@app.route(\"/api/v1.0/temperature\")\n",
    "def temperature():\n",
    "\n",
    "# Query\n",
    "    temp_query = (session.query(Measurement.date, Measurement.tobs, Measurement.station).filter(Measurement.date.between('2016-08-23', '2017-08-23')).order_by(Measurement.date).all())\n",
    "\n",
    "# Convert\n",
    "    temperature_query = dict(temp_query)\n",
    "\n",
    "# jsonify\n",
    "    return jsonify(temperature_query)"
   ]
  },
  {
   "cell_type": "code",
   "execution_count": 48,
   "metadata": {},
   "outputs": [],
   "source": [
    "@app.route(\"/api/v1.0/stations\")\n",
    "def stations():\n",
    "\n",
    "# Query\n",
    "    stations =  session.query(Measurement.station).group_by(Measurement.station).all()\n",
    "\n",
    "# Convert\n",
    "    stations_id = list(np.ravel(stations))\n",
    "\n",
    "# jsonify   \n",
    "    return jsonify(stations_id)"
   ]
  },
  {
   "cell_type": "code",
   "execution_count": 49,
   "metadata": {},
   "outputs": [],
   "source": [
    "@app.route(\"/api/v1.0/tobs\")\n",
    "def tobs():\n",
    "\n",
    "# Query\n",
    "    tobs = session.query(Measurement.tobs).filter(Measurement.date >= '2016-08-23', Measurement.station == USC00519281).all()\n",
    "    \n",
    "# Convert\n",
    "    temp_obs = dict(tobs)\n",
    "\n",
    "# jsonify\n",
    "    return jsonify(temp_obs)"
   ]
  },
  {
   "cell_type": "code",
   "execution_count": 50,
   "metadata": {},
   "outputs": [],
   "source": [
    "@app.route(\"/api/v1.0/<start_date>\")\n",
    "def start(start_date=None):\n",
    "\n",
    "# Query\n",
    "    start = session.query(Measurement.date, func.min(Measurement.tobs), func.avg(Measurement.tobs), func.max(Measurement.tobs)).filter(Measurement.date >= start_date).group_by(Measurement.date).all()\n",
    "    \n",
    "# Convert\n",
    "    the_start = list(start)\n",
    "    \n",
    "# jsonify\n",
    "    return jsonify(the_start)"
   ]
  },
  {
   "cell_type": "code",
   "execution_count": null,
   "metadata": {},
   "outputs": [],
   "source": [
    "@app.route(\"/api/v1.0/<start>/<end>\")\n",
    "def start_end(start, end=None):\n",
    "    \n",
    "# Query\n",
    "    start_end = session.query(Measurement.date, func.min(Measurement.tobs), func.avg(Measurement.tobs), func.max(Measurement.tobs)).filter(Measurement.date.between(\"2017-02-15\", \"2017-02-25\").group_by(Measurement.date).all()\n",
    "    \n",
    "# Convert\n",
    "    startEnd = list(start_end)\n",
    "    \n",
    "# jsonify\n",
    "    return jsonify(startEnd)\n",
    "\n"
   ]
  },
  {
   "cell_type": "code",
   "execution_count": null,
   "metadata": {},
   "outputs": [],
   "source": [
    "if __name__ == \"__main__\":\n",
    "    app.run(debug=True)                                                                                                                                           "
   ]
  },
  {
   "cell_type": "code",
   "execution_count": null,
   "metadata": {},
   "outputs": [],
   "source": []
  }
 ],
 "metadata": {
  "kernelspec": {
   "display_name": "Python 3",
   "language": "python",
   "name": "python3"
  },
  "language_info": {
   "codemirror_mode": {
    "name": "ipython",
    "version": 3
   },
   "file_extension": ".py",
   "mimetype": "text/x-python",
   "name": "python",
   "nbconvert_exporter": "python",
   "pygments_lexer": "ipython3",
   "version": "3.7.2"
  }
 },
 "nbformat": 4,
 "nbformat_minor": 2
}
